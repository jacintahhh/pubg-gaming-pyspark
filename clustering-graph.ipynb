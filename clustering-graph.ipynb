{
 "cells": [
  {
   "cell_type": "markdown",
   "metadata": {},
   "source": [
    "# Big Data Project - PUBG Big Data Analysis and Modeling\n",
    "\n",
    "### Part3: Hacker Identify - cluster and Graph theory - recommendation\n",
    "\n",
    "Jacey Hung, Ying Huang, Kai Li"
   ]
  },
  {
   "cell_type": "code",
   "execution_count": 1,
   "metadata": {},
   "outputs": [],
   "source": [
    "#!pip install pyspark"
   ]
  },
  {
   "cell_type": "code",
   "execution_count": null,
   "metadata": {},
   "outputs": [],
   "source": [
    "#spark sql imports\n",
    "from pyspark.sql import SparkSession\n",
    "from pyspark.sql import functions as F\n",
    "from pyspark.sql import Row\n",
    "from pyspark.sql.functions import UserDefinedFunction\n",
    "from pyspark.sql.types import *\n",
    "\n",
    "import matplotlib.pyplot as plt\n",
    "%matplotlib inline"
   ]
  },
  {
   "cell_type": "code",
   "execution_count": 2,
   "metadata": {},
   "outputs": [],
   "source": [
    "#spark ML imports\n",
    "from pyspark.sql import functions as F\n",
    "from pyspark.ml import Pipeline\n",
    "from pyspark.ml.classification import LogisticRegression\n",
    "from pyspark.ml.feature import HashingTF, Tokenizer, StringIndexer, CountVectorizer, IDF\n",
    "from pyspark.ml.tuning import CrossValidator, ParamGridBuilder\n",
    "from pyspark.ml.evaluation import BinaryClassificationEvaluator, MulticlassClassificationEvaluator\n",
    "import time"
   ]
  },
  {
   "cell_type": "code",
   "execution_count": 3,
   "metadata": {},
   "outputs": [],
   "source": [
    "spark = SparkSession.builder.appName('PUBG').getOrCreate()\n",
    "\n",
    "#change configuration settings on Spark \n",
    "#conf = spark.sparkContext._conf.setAll([('spark.executor.memory', '`16g'), ('spark.app.name', 'Spark Updated Conf'), ('spark.executor.cores', '4'), ('spark.cores.max', '4'), ('spark.driver.memory','4g')])\n",
    "# the 4g is the total mun of the memory 4g * 4 executor = 16g\n",
    "\n",
    "\n",
    "#print spark configuration settings\n",
    "#spark.sparkContext.getConf().getAll()"
   ]
  },
  {
   "cell_type": "code",
   "execution_count": 4,
   "metadata": {},
   "outputs": [
    {
     "data": {
      "text/html": [
       "\n",
       "        <div>\n",
       "            <p><b>SparkContext</b></p>\n",
       "\n",
       "            <p><a href=\"http://cluster-6ef3-m.c.bd-pubg.internal:4040\">Spark UI</a></p>\n",
       "\n",
       "            <dl>\n",
       "              <dt>Version</dt>\n",
       "                <dd><code>v2.4.5</code></dd>\n",
       "              <dt>Master</dt>\n",
       "                <dd><code>yarn</code></dd>\n",
       "              <dt>AppName</dt>\n",
       "                <dd><code>PySparkShell</code></dd>\n",
       "            </dl>\n",
       "        </div>\n",
       "        "
      ],
      "text/plain": [
       "<SparkContext master=yarn appName=PySparkShell>"
      ]
     },
     "execution_count": 4,
     "metadata": {},
     "output_type": "execute_result"
    }
   ],
   "source": [
    "spark.sparkContext"
   ]
  },
  {
   "cell_type": "markdown",
   "metadata": {},
   "source": [
    "## Load Data"
   ]
  },
  {
   "cell_type": "markdown",
   "metadata": {},
   "source": [
    "In aggregate, each match's meta information and player statistics are summarized (as provided by pubg). It includes various aggregate statistics such as player kills, damage, distance walked, etc as well as metadata on the match itself such as queue size, fpp/tpp, date, etc."
   ]
  },
  {
   "cell_type": "code",
   "execution_count": 5,
   "metadata": {},
   "outputs": [],
   "source": [
    "#match = spark.read.csv(\"C:/Users/kailf/Python_code/UChicago/Big_Data/Project/match_stats_0.csv\", inferSchema=True,header=True)\n",
    "agg0 = spark.read.csv('gs://data-pubg/data/agg_match_stats_0.csv', inferSchema=True, header=True)\n",
    "agg1 = spark.read.csv('gs://data-pubg/data/agg_match_stats_1.csv', inferSchema=True, header=True)\n",
    "agg2 = spark.read.csv('gs://data-pubg/data/agg_match_stats_2.csv', inferSchema=True, header=True)\n",
    "agg3 = spark.read.csv('gs://data-pubg/data/agg_match_stats_3.csv', inferSchema=True, header=True)\n",
    "agg4 = spark.read.csv('gs://data-pubg/data/agg_match_stats_4.csv', inferSchema=True, header=True)\n",
    "match = agg0.union(agg1)\n",
    "match = match.union(agg2)\n",
    "match = match.union(agg3)\n",
    "match = match.union(agg4)\n"
   ]
  },
  {
   "cell_type": "code",
   "execution_count": 6,
   "metadata": {},
   "outputs": [
    {
     "name": "stdout",
     "output_type": "stream",
     "text": [
      "root\n",
      " |-- date: string (nullable = true)\n",
      " |-- game_size: integer (nullable = true)\n",
      " |-- match_id: string (nullable = true)\n",
      " |-- match_mode: string (nullable = true)\n",
      " |-- party_size: integer (nullable = true)\n",
      " |-- player_assists: integer (nullable = true)\n",
      " |-- player_dbno: integer (nullable = true)\n",
      " |-- player_dist_ride: double (nullable = true)\n",
      " |-- player_dist_walk: double (nullable = true)\n",
      " |-- player_dmg: integer (nullable = true)\n",
      " |-- player_kills: integer (nullable = true)\n",
      " |-- player_name: string (nullable = true)\n",
      " |-- player_survive_time: double (nullable = true)\n",
      " |-- team_id: integer (nullable = true)\n",
      " |-- team_placement: integer (nullable = true)\n",
      "\n"
     ]
    }
   ],
   "source": [
    "match.printSchema()"
   ]
  },
  {
   "cell_type": "code",
   "execution_count": 7,
   "metadata": {},
   "outputs": [],
   "source": [
    "#kill = spark.read.csv(\"C:/Users/kailf/Python_code/UChicago/Big_Data/Project/kill_stats_final_0.csv\",inferSchema=True, header=True)\n",
    "kil0 = spark.read.csv('gs://data-pubg/data/kill_match_stats_final_0.csv', inferSchema=True, header=True)\n",
    "kil1 = spark.read.csv('gs://data-pubg/data/kill_match_stats_final_1.csv', inferSchema=True, header=True)\n",
    "kil2 = spark.read.csv('gs://data-pubg/data/kill_match_stats_final_2.csv', inferSchema=True, header=True)\n",
    "kil3 = spark.read.csv('gs://data-pubg/data/kill_match_stats_final_3.csv', inferSchema=True, header=True)\n",
    "kil4 = spark.read.csv('gs://data-pubg/data/kill_match_stats_final_4.csv', inferSchema=True, header=True)\n",
    "kill = kil0.union(kil1)\n",
    "kill = kill.union(kil2)\n",
    "kill = kill.union(kil3)\n",
    "kill = kill.union(kil4)\n"
   ]
  },
  {
   "cell_type": "code",
   "execution_count": 8,
   "metadata": {},
   "outputs": [
    {
     "name": "stdout",
     "output_type": "stream",
     "text": [
      "root\n",
      " |-- killed_by: string (nullable = true)\n",
      " |-- killer_name: string (nullable = true)\n",
      " |-- killer_placement: double (nullable = true)\n",
      " |-- killer_position_x: double (nullable = true)\n",
      " |-- killer_position_y: double (nullable = true)\n",
      " |-- map: string (nullable = true)\n",
      " |-- match_id: string (nullable = true)\n",
      " |-- time: integer (nullable = true)\n",
      " |-- victim_name: string (nullable = true)\n",
      " |-- victim_placement: double (nullable = true)\n",
      " |-- victim_position_x: double (nullable = true)\n",
      " |-- victim_position_y: double (nullable = true)\n",
      "\n"
     ]
    }
   ],
   "source": [
    "kill.printSchema()"
   ]
  },
  {
   "cell_type": "code",
   "execution_count": 9,
   "metadata": {},
   "outputs": [],
   "source": [
    "match = match.withColumn(\"date\", F.unix_timestamp(match[\"date\"], \"yyyy-MM-dd'T'HH:mm:ss'+0000'\").cast('timestamp'))"
   ]
  },
  {
   "cell_type": "code",
   "execution_count": 10,
   "metadata": {},
   "outputs": [],
   "source": [
    "from pyspark.sql.functions import *\n",
    "\n",
    "match = match.withColumn('month', month(match['date']))\n",
    "match = match.withColumn('year', year(match['date']))\n",
    "match = match.withColumn('hour', hour(match['date']))\n",
    "match = match.withColumn('dayOfWeek', F.date_format(F.col('Date'),'E'))"
   ]
  },
  {
   "cell_type": "code",
   "execution_count": 11,
   "metadata": {},
   "outputs": [],
   "source": [
    "#replace match_id with numeric id\n",
    "match_id = match.select('match_id').distinct()\n",
    "match_id_kill = kill.select('match_id').distinct()\n",
    "ids = match_id.union(match_id_kill).drop_duplicates(subset=['match_id'])\n",
    "ids = ids.withColumn('id',F.monotonically_increasing_id())\n",
    "match = match.join(ids, on=['match_id'],how = 'left').drop('match_id')\n",
    "kill = kill.join(ids, on=['match_id'],how = 'left').drop('match_id')"
   ]
  },
  {
   "cell_type": "code",
   "execution_count": 45,
   "metadata": {},
   "outputs": [],
   "source": [
    "kill = kill.withColumn('kill_distance',F.sqrt((kill.killer_position_x/100 - kill.victim_position_x/100)**2+\n",
    "                                      (kill.killer_position_y/100 - kill.victim_position_y/100)**2))\n",
    "#kill.show(5)"
   ]
  },
  {
   "cell_type": "markdown",
   "metadata": {},
   "source": [
    "## Model - Identify Hacker by Clustering\n"
   ]
  },
  {
   "cell_type": "markdown",
   "metadata": {},
   "source": [
    "Identify hackers by clustering abnormal data points in three features:\n",
    "player_kills\n",
    "player_dist_walk\n",
    "player_dist_ride\n",
    "\n",
    "Inner join all results and find the intersection considered as an hacker list.\n",
    "\n",
    "Future Work:\n",
    "1. Need more information to have more accurate identification \n",
    "2. Try clustering data with more features\n",
    "3. Try different clustering method"
   ]
  },
  {
   "cell_type": "code",
   "execution_count": 47,
   "metadata": {},
   "outputs": [],
   "source": [
    "from pyspark.ml.clustering import KMeans, KMeansModel\n",
    "from pyspark.ml.evaluation import ClusteringEvaluator\n",
    "from pyspark.ml.feature import VectorAssembler"
   ]
  },
  {
   "cell_type": "code",
   "execution_count": 13,
   "metadata": {},
   "outputs": [
    {
     "name": "stdout",
     "output_type": "stream",
     "text": [
      "root\n",
      " |-- killed_by: string (nullable = true)\n",
      " |-- killer_name: string (nullable = true)\n",
      " |-- killer_placement: double (nullable = true)\n",
      " |-- killer_position_x: double (nullable = true)\n",
      " |-- killer_position_y: double (nullable = true)\n",
      " |-- map: string (nullable = true)\n",
      " |-- time: integer (nullable = true)\n",
      " |-- victim_name: string (nullable = true)\n",
      " |-- victim_placement: double (nullable = true)\n",
      " |-- victim_position_x: double (nullable = true)\n",
      " |-- victim_position_y: double (nullable = true)\n",
      " |-- id: long (nullable = true)\n",
      " |-- kill_distance: double (nullable = true)\n",
      "\n"
     ]
    }
   ],
   "source": [
    "kill.printSchema()"
   ]
  },
  {
   "cell_type": "code",
   "execution_count": 14,
   "metadata": {},
   "outputs": [
    {
     "name": "stdout",
     "output_type": "stream",
     "text": [
      "root\n",
      " |-- date: timestamp (nullable = true)\n",
      " |-- game_size: integer (nullable = true)\n",
      " |-- match_mode: string (nullable = true)\n",
      " |-- party_size: integer (nullable = true)\n",
      " |-- player_assists: integer (nullable = true)\n",
      " |-- player_dbno: integer (nullable = true)\n",
      " |-- player_dist_ride: double (nullable = true)\n",
      " |-- player_dist_walk: double (nullable = true)\n",
      " |-- player_dmg: integer (nullable = true)\n",
      " |-- player_kills: integer (nullable = true)\n",
      " |-- player_name: string (nullable = true)\n",
      " |-- player_survive_time: double (nullable = true)\n",
      " |-- team_id: integer (nullable = true)\n",
      " |-- team_placement: integer (nullable = true)\n",
      " |-- month: integer (nullable = true)\n",
      " |-- year: integer (nullable = true)\n",
      " |-- hour: integer (nullable = true)\n",
      " |-- dayOfWeek: string (nullable = true)\n",
      " |-- id: long (nullable = true)\n",
      "\n"
     ]
    }
   ],
   "source": [
    "match.printSchema()"
   ]
  },
  {
   "cell_type": "code",
   "execution_count": 44,
   "metadata": {},
   "outputs": [
    {
     "name": "stdout",
     "output_type": "stream",
     "text": [
      "root\n",
      " |-- killed_by: string (nullable = true)\n",
      " |-- killer_name: string (nullable = true)\n",
      " |-- killer_placement: double (nullable = true)\n",
      " |-- killer_position_x: double (nullable = true)\n",
      " |-- killer_position_y: double (nullable = true)\n",
      " |-- map: string (nullable = true)\n",
      " |-- time: integer (nullable = true)\n",
      " |-- victim_name: string (nullable = true)\n",
      " |-- victim_placement: double (nullable = true)\n",
      " |-- victim_position_x: double (nullable = true)\n",
      " |-- victim_position_y: double (nullable = true)\n",
      " |-- id: long (nullable = true)\n",
      " |-- kill_distance: double (nullable = true)\n",
      "\n"
     ]
    }
   ],
   "source": [
    "kill.printSchema()"
   ]
  },
  {
   "cell_type": "markdown",
   "metadata": {},
   "source": [
    "#### Try to identify super sniper hackers but it couldn't work"
   ]
  },
  {
   "cell_type": "code",
   "execution_count": 61,
   "metadata": {},
   "outputs": [],
   "source": [
    "#from pyspark.sql import functions as F\n",
    "\n",
    "kill_cluster = kill.select(\n",
    "  \"kill_distance\", 'killer_name',\n",
    "  F.col(\"kill_distance\").cast(\"int\").isNotNull().alias(\"Value\"))"
   ]
  },
  {
   "cell_type": "code",
   "execution_count": 62,
   "metadata": {},
   "outputs": [],
   "source": [
    "kill_cluster = kill_cluster.select('killer_name', 'kill_distance', F.col('Value') == 'true')"
   ]
  },
  {
   "cell_type": "code",
   "execution_count": 63,
   "metadata": {},
   "outputs": [
    {
     "name": "stdout",
     "output_type": "stream",
     "text": [
      "root\n",
      " |-- killer_name: string (nullable = true)\n",
      " |-- kill_distance: double (nullable = true)\n",
      " |-- (Value = true): boolean (nullable = true)\n",
      "\n"
     ]
    }
   ],
   "source": [
    "kill_cluster.printSchema()"
   ]
  },
  {
   "cell_type": "code",
   "execution_count": 64,
   "metadata": {},
   "outputs": [
    {
     "name": "stdout",
     "output_type": "stream",
     "text": [
      "CPU times: user 1.65 ms, sys: 8.01 ms, total: 9.66 ms\n",
      "Wall time: 32.9 ms\n"
     ]
    }
   ],
   "source": [
    "%%time\n",
    "#match_cluster = match.select('player_name','player_kills')\n",
    "\n",
    "vecAssembler = VectorAssembler(inputCols=['kill_distance'], outputCol=\"features\")\n",
    "new_df = vecAssembler.transform(kill_cluster.select('killer_name','kill_distance'))\n",
    "#new_df.show(5)\n",
    "#new_df = new_df.sample(False, 0.01, seed = 1)\n",
    "new_df = new_df.dropna()"
   ]
  },
  {
   "cell_type": "code",
   "execution_count": null,
   "metadata": {},
   "outputs": [],
   "source": [
    "%%time\n",
    "\n",
    "# Trains a k-means model.\n",
    "kmeans = KMeans(k = 2, seed = 1)\n",
    "model = kmeans.fit(new_df.select('features'))"
   ]
  },
  {
   "cell_type": "code",
   "execution_count": null,
   "metadata": {},
   "outputs": [],
   "source": [
    "%%time\n",
    "\n",
    "# Make predictions\n",
    "predictions = model.transform(new_df)\n",
    "\n",
    "# Evaluate clustering by computing Silhouette score\n",
    "evaluator = ClusteringEvaluator()\n",
    "\n",
    "silhouette = evaluator.evaluate(predictions)\n",
    "print(\"Silhouette with squared euclidean distance = \" + str(silhouette))\n",
    "\n",
    "# Shows the result.\n",
    "centers = model.clusterCenters()\n",
    "print(\"Cluster Centers: \")\n",
    "for center in centers:\n",
    "    print(center)"
   ]
  },
  {
   "cell_type": "code",
   "execution_count": null,
   "metadata": {},
   "outputs": [],
   "source": []
  },
  {
   "cell_type": "markdown",
   "metadata": {},
   "source": [
    "### Abnormal Number of kills   \n",
    "\n",
    "It will take control of  players aiming and target on opponents automaticaly with high kills and headshot rate."
   ]
  },
  {
   "cell_type": "code",
   "execution_count": 15,
   "metadata": {},
   "outputs": [],
   "source": [
    "match = match.withColumn('speed_avg', (F.col('player_dist_ride')+F.col('player_dist_walk'))/F.col('player_survive_time'))\n"
   ]
  },
  {
   "cell_type": "code",
   "execution_count": 20,
   "metadata": {},
   "outputs": [],
   "source": [
    "kill = kill.withColumn('shoot range', F.sqrt((F.col('killer_position_x') - \\\n",
    "                                              F.col('victim_position_x'))**2 +\\\n",
    "                                            (F.col('killer_position_y') - \\\n",
    "                                              F.col('victim_position_y'))**2))"
   ]
  },
  {
   "cell_type": "code",
   "execution_count": 47,
   "metadata": {},
   "outputs": [],
   "source": [
    "match2 = match\n",
    "match2 = match2.select('id', 'speed_avg', 'player_name', 'player_kills')\n",
    "match2 = match2.selectExpr('id as id2','speed_avg', 'player_name', 'player_kills')"
   ]
  },
  {
   "cell_type": "code",
   "execution_count": 48,
   "metadata": {},
   "outputs": [
    {
     "name": "stdout",
     "output_type": "stream",
     "text": [
      "root\n",
      " |-- killed_by: string (nullable = true)\n",
      " |-- killer_name: string (nullable = true)\n",
      " |-- killer_placement: double (nullable = true)\n",
      " |-- killer_position_x: double (nullable = true)\n",
      " |-- killer_position_y: double (nullable = true)\n",
      " |-- map: string (nullable = true)\n",
      " |-- time: integer (nullable = true)\n",
      " |-- victim_name: string (nullable = true)\n",
      " |-- victim_placement: double (nullable = true)\n",
      " |-- victim_position_x: double (nullable = true)\n",
      " |-- victim_position_y: double (nullable = true)\n",
      " |-- id: long (nullable = true)\n",
      " |-- kill_distance: double (nullable = true)\n",
      " |-- speed_avg: double (nullable = true)\n",
      " |-- player_name: string (nullable = true)\n",
      " |-- player_kills: integer (nullable = true)\n",
      "\n"
     ]
    }
   ],
   "source": [
    "kill_cluster = kill.join(match2.select('id2', 'speed_avg', 'player_name', 'player_kills'), (match2.id2 == kill.id) & (match.player_name == kill.killer_name), how = 'left').drop('id2')\n",
    "kill_cluster.printSchema()"
   ]
  },
  {
   "cell_type": "code",
   "execution_count": 100,
   "metadata": {},
   "outputs": [
    {
     "name": "stdout",
     "output_type": "stream",
     "text": [
      "root\n",
      " |-- date: timestamp (nullable = true)\n",
      " |-- game_size: integer (nullable = true)\n",
      " |-- match_mode: string (nullable = true)\n",
      " |-- party_size: integer (nullable = true)\n",
      " |-- player_assists: integer (nullable = true)\n",
      " |-- player_dbno: integer (nullable = true)\n",
      " |-- player_dist_ride: double (nullable = true)\n",
      " |-- player_dist_walk: double (nullable = true)\n",
      " |-- player_dmg: integer (nullable = true)\n",
      " |-- player_kills: integer (nullable = true)\n",
      " |-- player_name: string (nullable = true)\n",
      " |-- player_survive_time: double (nullable = true)\n",
      " |-- team_id: integer (nullable = true)\n",
      " |-- team_placement: integer (nullable = true)\n",
      " |-- month: integer (nullable = true)\n",
      " |-- year: integer (nullable = true)\n",
      " |-- hour: integer (nullable = true)\n",
      " |-- dayOfWeek: string (nullable = true)\n",
      " |-- id: long (nullable = true)\n",
      " |-- speed_avg: double (nullable = true)\n",
      "\n"
     ]
    }
   ],
   "source": [
    "match.printSchema()"
   ]
  },
  {
   "cell_type": "code",
   "execution_count": 39,
   "metadata": {},
   "outputs": [],
   "source": [
    "#kill_cluster = kill.join(match.select('id', 'speed_avg', 'player_name', 'player_kills'), (match.id == kill.id) & (match.player_name == kill.killer_name), how = 'left')"
   ]
  },
  {
   "cell_type": "code",
   "execution_count": 17,
   "metadata": {},
   "outputs": [
    {
     "name": "stdout",
     "output_type": "stream",
     "text": [
      "root\n",
      " |-- date: timestamp (nullable = true)\n",
      " |-- game_size: integer (nullable = true)\n",
      " |-- match_mode: string (nullable = true)\n",
      " |-- party_size: integer (nullable = true)\n",
      " |-- player_assists: integer (nullable = true)\n",
      " |-- player_dbno: integer (nullable = true)\n",
      " |-- player_dist_ride: double (nullable = true)\n",
      " |-- player_dist_walk: double (nullable = true)\n",
      " |-- player_dmg: integer (nullable = true)\n",
      " |-- player_kills: integer (nullable = true)\n",
      " |-- player_name: string (nullable = true)\n",
      " |-- player_survive_time: double (nullable = true)\n",
      " |-- team_id: integer (nullable = true)\n",
      " |-- team_placement: integer (nullable = true)\n",
      " |-- month: integer (nullable = true)\n",
      " |-- year: integer (nullable = true)\n",
      " |-- hour: integer (nullable = true)\n",
      " |-- dayOfWeek: string (nullable = true)\n",
      " |-- id: long (nullable = true)\n",
      " |-- speed_avg: double (nullable = true)\n",
      "\n"
     ]
    }
   ],
   "source": [
    "match.printSchema()"
   ]
  },
  {
   "cell_type": "markdown",
   "metadata": {},
   "source": [
    "#### Identify hackers by abnormal player_kills"
   ]
  },
  {
   "cell_type": "markdown",
   "metadata": {},
   "source": [
    "#### Hacker list for abnormal player_kills"
   ]
  },
  {
   "cell_type": "code",
   "execution_count": 53,
   "metadata": {},
   "outputs": [
    {
     "name": "stdout",
     "output_type": "stream",
     "text": [
      "CPU times: user 8.97 ms, sys: 726 µs, total: 9.69 ms\n",
      "Wall time: 63.5 ms\n"
     ]
    }
   ],
   "source": [
    "%%time\n",
    "#match_cluster = match.select('player_name','player_kills')\n",
    "\n",
    "vecAssembler = VectorAssembler(inputCols=['player_kills'], outputCol=\"features\")\n",
    "new_df = vecAssembler.transform(match.select('player_name','player_kills'))\n",
    "#new_df.show(5)\n",
    "#new_df = new_df.sample(False, 0.01, seed = 1)\n",
    "new_df = new_df.dropna()"
   ]
  },
  {
   "cell_type": "code",
   "execution_count": null,
   "metadata": {},
   "outputs": [
    {
     "name": "stdout",
     "output_type": "stream",
     "text": [
      "CPU times: user 72.4 ms, sys: 17 ms, total: 89.4 ms\n",
      "Wall time: 6min 36s\n"
     ]
    }
   ],
   "source": [
    "%%time\n",
    "\n",
    "# Trains a k-means model.\n",
    "kmeans = KMeans(k = 2, seed = 1)\n",
    "model = kmeans.fit(new_df.select('features'))"
   ]
  },
  {
   "cell_type": "code",
   "execution_count": null,
   "metadata": {},
   "outputs": [
    {
     "name": "stdout",
     "output_type": "stream",
     "text": [
      "Silhouette with squared euclidean distance = 0.78192048541292\n",
      "Cluster Centers: \n",
      "[0.26388968]\n",
      "[3.21559913]\n",
      "CPU times: user 57 ms, sys: 26.1 ms, total: 83 ms\n",
      "Wall time: 6min 25s\n"
     ]
    }
   ],
   "source": [
    "%%time\n",
    "\n",
    "# Make predictions\n",
    "predictions = model.transform(new_df)\n",
    "\n",
    "# Evaluate clustering by computing Silhouette score\n",
    "evaluator = ClusteringEvaluator()\n",
    "\n",
    "silhouette = evaluator.evaluate(predictions)\n",
    "print(\"Silhouette with squared euclidean distance = \" + str(silhouette))\n",
    "\n",
    "# Shows the result.\n",
    "centers = model.clusterCenters()\n",
    "print(\"Cluster Centers: \")\n",
    "for center in centers:\n",
    "    print(center)"
   ]
  },
  {
   "cell_type": "code",
   "execution_count": null,
   "metadata": {},
   "outputs": [
    {
     "data": {
      "text/plain": [
       "14208220"
      ]
     },
     "execution_count": 58,
     "metadata": {},
     "output_type": "execute_result"
    }
   ],
   "source": [
    "predictions.filter(predictions['prediction'] == '1').count()"
   ]
  },
  {
   "cell_type": "code",
   "execution_count": null,
   "metadata": {},
   "outputs": [
    {
     "data": {
      "text/plain": [
       "53063358"
      ]
     },
     "execution_count": 59,
     "metadata": {},
     "output_type": "execute_result"
    }
   ],
   "source": [
    "predictions.filter(predictions['prediction'] == '0').count()"
   ]
  },
  {
   "cell_type": "code",
   "execution_count": 65,
   "metadata": {},
   "outputs": [],
   "source": [
    "hacker1 = predictions.filter(predictions['prediction'] == '1')"
   ]
  },
  {
   "cell_type": "code",
   "execution_count": 66,
   "metadata": {},
   "outputs": [
    {
     "name": "stdout",
     "output_type": "stream",
     "text": [
      "root\n",
      " |-- player_name: string (nullable = true)\n",
      " |-- player_kills: integer (nullable = true)\n",
      " |-- features: vector (nullable = true)\n",
      " |-- prediction: integer (nullable = false)\n",
      "\n"
     ]
    }
   ],
   "source": [
    "hacker1.printSchema()"
   ]
  },
  {
   "cell_type": "code",
   "execution_count": 77,
   "metadata": {},
   "outputs": [
    {
     "data": {
      "text/plain": [
       "3845093"
      ]
     },
     "execution_count": 77,
     "metadata": {},
     "output_type": "execute_result"
    }
   ],
   "source": [
    "hacker1.select('player_name').distinct().count()"
   ]
  },
  {
   "cell_type": "code",
   "execution_count": 95,
   "metadata": {},
   "outputs": [
    {
     "data": {
      "text/plain": [
       "7669689"
      ]
     },
     "execution_count": 95,
     "metadata": {},
     "output_type": "execute_result"
    }
   ],
   "source": [
    "match.select('player_name').distinct().count()"
   ]
  },
  {
   "cell_type": "code",
   "execution_count": null,
   "metadata": {},
   "outputs": [],
   "source": []
  },
  {
   "cell_type": "markdown",
   "metadata": {},
   "source": [
    "#### Hacker list of abnormal player_dist_ride"
   ]
  },
  {
   "cell_type": "code",
   "execution_count": 132,
   "metadata": {},
   "outputs": [
    {
     "name": "stdout",
     "output_type": "stream",
     "text": [
      "CPU times: user 8.39 ms, sys: 4.37 ms, total: 12.8 ms\n",
      "Wall time: 68 ms\n"
     ]
    }
   ],
   "source": [
    "%%time\n",
    "#match_cluster = match.select('player_name','player_kills')\n",
    "\n",
    "vecAssembler = VectorAssembler(inputCols=['player_dist_ride'], outputCol=\"features\")\n",
    "new_df2 = vecAssembler.transform(match.select('player_name','player_dist_ride'))\n",
    "#new_df.show(5)\n",
    "#new_df = new_df.sample(False, 0.01, seed = 1)\n",
    "new_df2 = new_df2.dropna()"
   ]
  },
  {
   "cell_type": "code",
   "execution_count": null,
   "metadata": {},
   "outputs": [
    {
     "name": "stdout",
     "output_type": "stream",
     "text": [
      "CPU times: user 48 ms, sys: 15.9 ms, total: 63.9 ms\n",
      "Wall time: 7min 21s\n"
     ]
    }
   ],
   "source": [
    "%%time\n",
    "\n",
    "# Trains a k-means model.\n",
    "kmeans2 = KMeans(k = 2, seed = 1)\n",
    "model2 = kmeans2.fit(new_df2.select('features'))"
   ]
  },
  {
   "cell_type": "code",
   "execution_count": null,
   "metadata": {},
   "outputs": [
    {
     "name": "stdout",
     "output_type": "stream",
     "text": [
      "Silhouette with squared euclidean distance = 0.9998024478106392\n",
      "Cluster Centers: \n",
      "[0.26388927]\n",
      "[3.21559963]\n",
      "CPU times: user 41.6 ms, sys: 17.3 ms, total: 58.9 ms\n",
      "Wall time: 5min 40s\n"
     ]
    }
   ],
   "source": [
    "%%time\n",
    "\n",
    "# Make predictions\n",
    "predictions = model2.transform(new_df2)\n",
    "\n",
    "# Evaluate clustering by computing Silhouette score\n",
    "evaluator = ClusteringEvaluator()\n",
    "\n",
    "silhouette = evaluator.evaluate(predictions)\n",
    "print(\"Silhouette with squared euclidean distance = \" + str(silhouette))\n",
    "\n",
    "# Shows the result.\n",
    "centers = model.clusterCenters()\n",
    "print(\"Cluster Centers: \")\n",
    "for center in centers:\n",
    "    print(center)"
   ]
  },
  {
   "cell_type": "code",
   "execution_count": null,
   "metadata": {},
   "outputs": [
    {
     "name": "stdout",
     "output_type": "stream",
     "text": [
      "CPU times: user 16.3 ms, sys: 4.75 ms, total: 21.1 ms\n",
      "Wall time: 2min 37s\n"
     ]
    },
    {
     "data": {
      "text/plain": [
       "733"
      ]
     },
     "execution_count": 135,
     "metadata": {},
     "output_type": "execute_result"
    }
   ],
   "source": [
    "%%time\n",
    "predictions.filter(predictions['prediction'] == '1').count()"
   ]
  },
  {
   "cell_type": "code",
   "execution_count": 136,
   "metadata": {},
   "outputs": [
    {
     "name": "stdout",
     "output_type": "stream",
     "text": [
      "CPU times: user 15.1 ms, sys: 5.76 ms, total: 20.9 ms\n",
      "Wall time: 2min 37s\n"
     ]
    },
    {
     "data": {
      "text/plain": [
       "67270845"
      ]
     },
     "execution_count": 136,
     "metadata": {},
     "output_type": "execute_result"
    }
   ],
   "source": [
    "%%time\n",
    "predictions.filter(predictions['prediction'] == '0').count()"
   ]
  },
  {
   "cell_type": "code",
   "execution_count": 137,
   "metadata": {},
   "outputs": [
    {
     "name": "stdout",
     "output_type": "stream",
     "text": [
      "CPU times: user 2.29 ms, sys: 351 µs, total: 2.64 ms\n",
      "Wall time: 49.9 ms\n"
     ]
    }
   ],
   "source": [
    "%%time\n",
    "hacker2 = predictions.filter(predictions['prediction'] == '1')"
   ]
  },
  {
   "cell_type": "code",
   "execution_count": null,
   "metadata": {},
   "outputs": [],
   "source": [
    "hacker2.select('player_name').distinct().count()"
   ]
  },
  {
   "cell_type": "markdown",
   "metadata": {},
   "source": [
    "#### Hacker list for abnormal player_dist_walk"
   ]
  },
  {
   "cell_type": "code",
   "execution_count": 139,
   "metadata": {},
   "outputs": [
    {
     "name": "stdout",
     "output_type": "stream",
     "text": [
      "CPU times: user 10.5 ms, sys: 1.25 ms, total: 11.8 ms\n",
      "Wall time: 30.5 ms\n"
     ]
    }
   ],
   "source": [
    "%%time\n",
    "#match_cluster = match.select('player_name','player_kills')\n",
    "\n",
    "vecAssembler = VectorAssembler(inputCols=['player_dist_walk'], outputCol=\"features\")\n",
    "new_df2 = vecAssembler.transform(match.select('player_name','player_dist_walk'))\n",
    "#new_df.show(5)\n",
    "#new_df = new_df.sample(False, 0.01, seed = 1)\n",
    "new_df2 = new_df2.dropna()"
   ]
  },
  {
   "cell_type": "code",
   "execution_count": null,
   "metadata": {},
   "outputs": [
    {
     "name": "stdout",
     "output_type": "stream",
     "text": [
      "CPU times: user 29 ms, sys: 33.5 ms, total: 62.5 ms\n",
      "Wall time: 6min 55s\n"
     ]
    }
   ],
   "source": [
    "%%time\n",
    "\n",
    "# Trains a k-means model.\n",
    "kmeans2 = KMeans(k = 2, seed = 1)\n",
    "model2 = kmeans2.fit(new_df2.select('features'))"
   ]
  },
  {
   "cell_type": "code",
   "execution_count": null,
   "metadata": {},
   "outputs": [
    {
     "name": "stdout",
     "output_type": "stream",
     "text": [
      "Silhouette with squared euclidean distance = 0.9999742396154305\n",
      "Cluster Centers: \n",
      "[0.26388927]\n",
      "[3.21559963]\n",
      "CPU times: user 48.7 ms, sys: 7.23 ms, total: 55.9 ms\n",
      "Wall time: 5min 38s\n"
     ]
    }
   ],
   "source": [
    "%%time\n",
    "\n",
    "# Make predictions\n",
    "predictions = model2.transform(new_df2)\n",
    "\n",
    "# Evaluate clustering by computing Silhouette score\n",
    "evaluator = ClusteringEvaluator()\n",
    "\n",
    "silhouette = evaluator.evaluate(predictions)\n",
    "print(\"Silhouette with squared euclidean distance = \" + str(silhouette))\n",
    "\n",
    "# Shows the result.\n",
    "centers = model.clusterCenters()\n",
    "print(\"Cluster Centers: \")\n",
    "for center in centers:\n",
    "    print(center)"
   ]
  },
  {
   "cell_type": "code",
   "execution_count": null,
   "metadata": {},
   "outputs": [
    {
     "name": "stdout",
     "output_type": "stream",
     "text": [
      "CPU times: user 12.7 ms, sys: 8.83 ms, total: 21.5 ms\n",
      "Wall time: 2min 38s\n"
     ]
    },
    {
     "data": {
      "text/plain": [
       "2483"
      ]
     },
     "execution_count": 142,
     "metadata": {},
     "output_type": "execute_result"
    }
   ],
   "source": [
    "%%time\n",
    "predictions.filter(predictions['prediction'] == '1').count()"
   ]
  },
  {
   "cell_type": "code",
   "execution_count": null,
   "metadata": {},
   "outputs": [
    {
     "name": "stdout",
     "output_type": "stream",
     "text": [
      "CPU times: user 13.4 ms, sys: 7.35 ms, total: 20.8 ms\n",
      "Wall time: 2min 38s\n"
     ]
    },
    {
     "data": {
      "text/plain": [
       "67269095"
      ]
     },
     "execution_count": 143,
     "metadata": {},
     "output_type": "execute_result"
    }
   ],
   "source": [
    "%%time\n",
    "predictions.filter(predictions['prediction'] == '0').count()"
   ]
  },
  {
   "cell_type": "code",
   "execution_count": 144,
   "metadata": {},
   "outputs": [
    {
     "name": "stdout",
     "output_type": "stream",
     "text": [
      "CPU times: user 0 ns, sys: 2.95 ms, total: 2.95 ms\n",
      "Wall time: 39.3 ms\n"
     ]
    }
   ],
   "source": [
    "%%time\n",
    "hacker3 = predictions.filter(predictions['prediction'] == '1')"
   ]
  },
  {
   "cell_type": "code",
   "execution_count": 150,
   "metadata": {},
   "outputs": [
    {
     "name": "stdout",
     "output_type": "stream",
     "text": [
      "root\n",
      " |-- player_name: string (nullable = true)\n",
      " |-- player_kills: integer (nullable = true)\n",
      " |-- features: vector (nullable = true)\n",
      " |-- prediction: integer (nullable = false)\n",
      "\n"
     ]
    }
   ],
   "source": [
    "hacker1.printSchema()"
   ]
  },
  {
   "cell_type": "code",
   "execution_count": 151,
   "metadata": {},
   "outputs": [
    {
     "name": "stdout",
     "output_type": "stream",
     "text": [
      "root\n",
      " |-- player_name: string (nullable = true)\n",
      " |-- player_dist_ride: double (nullable = true)\n",
      " |-- features: vector (nullable = true)\n",
      " |-- prediction: integer (nullable = false)\n",
      "\n"
     ]
    }
   ],
   "source": [
    "hacker2.printSchema()"
   ]
  },
  {
   "cell_type": "code",
   "execution_count": 152,
   "metadata": {},
   "outputs": [
    {
     "name": "stdout",
     "output_type": "stream",
     "text": [
      "root\n",
      " |-- player_name: string (nullable = true)\n",
      " |-- player_dist_walk: double (nullable = true)\n",
      " |-- features: vector (nullable = true)\n",
      " |-- prediction: integer (nullable = false)\n",
      "\n"
     ]
    }
   ],
   "source": [
    "hacker3.printSchema()"
   ]
  },
  {
   "cell_type": "markdown",
   "metadata": {},
   "source": [
    "#### Find Intersection among all three hacker lists"
   ]
  },
  {
   "cell_type": "code",
   "execution_count": 161,
   "metadata": {},
   "outputs": [],
   "source": [
    "hacker_name2 = hacker2.selectExpr(\"player_name as player_name2\")\n",
    "hacker_name3 = hacker3.selectExpr(\"player_name as player_name3\")"
   ]
  },
  {
   "cell_type": "code",
   "execution_count": 173,
   "metadata": {},
   "outputs": [],
   "source": [
    "hacker_name = hacker1.join(hacker_name2.select('player_name2'), \\\n",
    "                           hacker1.player_name == hacker_name2.player_name2, how = 'inner').drop('player_name2')\n",
    "\n",
    "hacker_name = hacker_name.join(hacker_name3.select('player_name3'), \\\n",
    "                           hacker_name.player_name == hacker_name3.player_name3, how = 'inner').drop('player_name3')"
   ]
  },
  {
   "cell_type": "code",
   "execution_count": 174,
   "metadata": {},
   "outputs": [
    {
     "name": "stdout",
     "output_type": "stream",
     "text": [
      "root\n",
      " |-- player_name: string (nullable = true)\n",
      " |-- player_kills: integer (nullable = true)\n",
      " |-- features: vector (nullable = true)\n",
      " |-- prediction: integer (nullable = false)\n",
      "\n"
     ]
    }
   ],
   "source": [
    "hacker_name.printSchema()"
   ]
  },
  {
   "cell_type": "code",
   "execution_count": 175,
   "metadata": {},
   "outputs": [
    {
     "data": {
      "text/plain": [
       "574"
      ]
     },
     "execution_count": 175,
     "metadata": {},
     "output_type": "execute_result"
    }
   ],
   "source": [
    "hacker_name.select('player_name').distinct().count()"
   ]
  },
  {
   "cell_type": "code",
   "execution_count": 176,
   "metadata": {},
   "outputs": [],
   "source": [
    "distinct_hacker = hacker_name.select('player_name').distinct()"
   ]
  },
  {
   "cell_type": "code",
   "execution_count": null,
   "metadata": {},
   "outputs": [
    {
     "name": "stdout",
     "output_type": "stream",
     "text": [
      "+-------------+\n",
      "|  player_name|\n",
      "+-------------+\n",
      "|     NIcemust|\n",
      "|     WyoRebel|\n",
      "|HuYaTV_SenSen|\n",
      "|Lao_Yin_Bi_Ma|\n",
      "|       VP7777|\n",
      "|     lingaggg|\n",
      "|      ytpbaba|\n",
      "|  Flashin1912|\n",
      "|     Shanklen|\n",
      "|    SudoPanda|\n",
      "+-------------+\n",
      "only showing top 10 rows\n",
      "\n",
      "CPU times: user 30.6 ms, sys: 7.84 ms, total: 38.5 ms\n",
      "Wall time: 5min 12s\n"
     ]
    }
   ],
   "source": [
    "%%time\n",
    "distinct_hacker.show(10)"
   ]
  },
  {
   "cell_type": "code",
   "execution_count": 179,
   "metadata": {},
   "outputs": [
    {
     "name": "stdout",
     "output_type": "stream",
     "text": [
      "down\n"
     ]
    }
   ],
   "source": [
    "print('down')"
   ]
  },
  {
   "cell_type": "markdown",
   "metadata": {},
   "source": [
    "### Graph"
   ]
  },
  {
   "cell_type": "code",
   "execution_count": 26,
   "metadata": {},
   "outputs": [
    {
     "name": "stdout",
     "output_type": "stream",
     "text": [
      "Collecting graphframes\n",
      "  Downloading graphframes-0.6-py2.py3-none-any.whl (18 kB)\n",
      "Requirement already satisfied: numpy in /opt/conda/anaconda/lib/python3.6/site-packages (from graphframes) (1.14.3)\n",
      "Requirement already satisfied: nose in /opt/conda/anaconda/lib/python3.6/site-packages (from graphframes) (1.3.7)\n",
      "Installing collected packages: graphframes\n",
      "Successfully installed graphframes-0.6\n"
     ]
    }
   ],
   "source": [
    "#!pip install graphframes"
   ]
  },
  {
   "cell_type": "code",
   "execution_count": 13,
   "metadata": {},
   "outputs": [],
   "source": [
    "from graphframes import *"
   ]
  },
  {
   "cell_type": "code",
   "execution_count": 30,
   "metadata": {},
   "outputs": [],
   "source": [
    "#!wget http://dl.bintray.com/spark-packages/maven/graphframes/graphframes/0.7.0-spark2.4-s_2.11/graphframes-0.7.0-spark2.4-s_2.11.jar"
   ]
  },
  {
   "cell_type": "code",
   "execution_count": 31,
   "metadata": {},
   "outputs": [],
   "source": [
    "#!cp /graphframes-0.7.0-spark2.4-s_2.11.jar /usr/lib/spark/jars"
   ]
  },
  {
   "cell_type": "code",
   "execution_count": 43,
   "metadata": {},
   "outputs": [],
   "source": [
    "#!ls /usr/lib/spark/jars"
   ]
  },
  {
   "cell_type": "code",
   "execution_count": 14,
   "metadata": {},
   "outputs": [],
   "source": [
    "match2 = match\n",
    "match2 = match2.select('player_name', 'id', 'team_id')\n",
    "match2 = match2.selectExpr(\"player_name as teammate_name\", \"id as id2\", 'team_id as team_id2')"
   ]
  },
  {
   "cell_type": "code",
   "execution_count": 15,
   "metadata": {
    "scrolled": true
   },
   "outputs": [
    {
     "name": "stdout",
     "output_type": "stream",
     "text": [
      "root\n",
      " |-- teammate_name: string (nullable = true)\n",
      " |-- id2: long (nullable = true)\n",
      " |-- team_id2: integer (nullable = true)\n",
      "\n"
     ]
    }
   ],
   "source": [
    "match2.printSchema()"
   ]
  },
  {
   "cell_type": "code",
   "execution_count": 16,
   "metadata": {},
   "outputs": [],
   "source": [
    "graph_data = match.join(match2.select('teammate_name', 'team_id2', 'id2'), \\\n",
    "                  (match.team_id == match2.team_id2)\\\n",
    "                  & (match.id == match2.id2), how = 'left').drop('id2', 'team_id2')"
   ]
  },
  {
   "cell_type": "code",
   "execution_count": 17,
   "metadata": {},
   "outputs": [
    {
     "name": "stdout",
     "output_type": "stream",
     "text": [
      "root\n",
      " |-- date: timestamp (nullable = true)\n",
      " |-- game_size: integer (nullable = true)\n",
      " |-- match_mode: string (nullable = true)\n",
      " |-- party_size: integer (nullable = true)\n",
      " |-- player_assists: integer (nullable = true)\n",
      " |-- player_dbno: integer (nullable = true)\n",
      " |-- player_dist_ride: double (nullable = true)\n",
      " |-- player_dist_walk: double (nullable = true)\n",
      " |-- player_dmg: integer (nullable = true)\n",
      " |-- player_kills: integer (nullable = true)\n",
      " |-- player_name: string (nullable = true)\n",
      " |-- player_survive_time: double (nullable = true)\n",
      " |-- team_id: integer (nullable = true)\n",
      " |-- team_placement: integer (nullable = true)\n",
      " |-- month: integer (nullable = true)\n",
      " |-- year: integer (nullable = true)\n",
      " |-- hour: integer (nullable = true)\n",
      " |-- dayOfWeek: string (nullable = true)\n",
      " |-- id: long (nullable = true)\n",
      " |-- teammate_name: string (nullable = true)\n",
      "\n"
     ]
    }
   ],
   "source": [
    "graph_data.printSchema()"
   ]
  },
  {
   "cell_type": "code",
   "execution_count": 187,
   "metadata": {},
   "outputs": [],
   "source": [
    "graph_data= graph_data.dropna()"
   ]
  },
  {
   "cell_type": "code",
   "execution_count": 188,
   "metadata": {},
   "outputs": [],
   "source": [
    "graph_data = graph_data.filter(graph_data.player_name != graph_data.teammate_name)"
   ]
  },
  {
   "cell_type": "code",
   "execution_count": 20,
   "metadata": {},
   "outputs": [],
   "source": [
    "#temp.summary().show()"
   ]
  },
  {
   "cell_type": "code",
   "execution_count": 190,
   "metadata": {},
   "outputs": [],
   "source": [
    "player_name = graph_data2.withColumn(\"id\",graph_data2[\"player_name\"])\n",
    "teammates = graph_data2.withColumn(\"src\", graph_data2[\"player_name\"])\n",
    "teammates = teammates.withColumn(\"dst\", graph_data2[\"teammate_name\"])"
   ]
  },
  {
   "cell_type": "code",
   "execution_count": 23,
   "metadata": {},
   "outputs": [],
   "source": [
    "graph = GraphFrame(player_name, teammates)"
   ]
  },
  {
   "cell_type": "code",
   "execution_count": 23,
   "metadata": {},
   "outputs": [],
   "source": [
    "#graph = graph.dropna()"
   ]
  },
  {
   "cell_type": "markdown",
   "metadata": {},
   "source": [
    "### show vetices and degree of the graph"
   ]
  },
  {
   "cell_type": "code",
   "execution_count": null,
   "metadata": {},
   "outputs": [
    {
     "name": "stdout",
     "output_type": "stream",
     "text": [
      "+------------+-------------+---------+--------------+-----------+----------+------------+-------------------+--------------+------------+\n",
      "| player_name|teammate_name|game_size|player_assists|player_dbno|player_dmg|player_kills|player_survive_time|team_placement|          id|\n",
      "+------------+-------------+---------+--------------+-----------+----------+------------+-------------------+--------------+------------+\n",
      "|     DylanBu| Sloth-Keeper|       29|             0|          1|       100|           1|           1163.402|            18|     DylanBu|\n",
      "|     DylanBu|     kakuiyou|       29|             0|          1|       100|           1|           1163.402|            18|     DylanBu|\n",
      "|     DylanBu|   Fish-Alive|       29|             0|          1|       100|           1|           1163.402|            18|     DylanBu|\n",
      "|Sloth-Keeper|      DylanBu|       29|             0|          1|       200|           1|            473.912|            18|Sloth-Keeper|\n",
      "|Sloth-Keeper|     kakuiyou|       29|             0|          1|       200|           1|            473.912|            18|Sloth-Keeper|\n",
      "|Sloth-Keeper|   Fish-Alive|       29|             0|          1|       200|           1|            473.912|            18|Sloth-Keeper|\n",
      "|    kakuiyou|      DylanBu|       29|             0|          1|       100|           1|            458.551|            18|    kakuiyou|\n",
      "|    kakuiyou| Sloth-Keeper|       29|             0|          1|       100|           1|            458.551|            18|    kakuiyou|\n",
      "|    kakuiyou|   Fish-Alive|       29|             0|          1|       100|           1|            458.551|            18|    kakuiyou|\n",
      "|  Fish-Alive|      DylanBu|       29|             0|          4|       400|           4|            440.895|            18|  Fish-Alive|\n",
      "+------------+-------------+---------+--------------+-----------+----------+------------+-------------------+--------------+------------+\n",
      "only showing top 10 rows\n",
      "\n",
      "CPU times: user 181 ms, sys: 42.8 ms, total: 224 ms\n",
      "Wall time: 15min 22s\n"
     ]
    }
   ],
   "source": [
    "%%time\n",
    "graph.vertices.show(10)"
   ]
  },
  {
   "cell_type": "code",
   "execution_count": null,
   "metadata": {},
   "outputs": [
    {
     "name": "stdout",
     "output_type": "stream",
     "text": [
      "+-------------+-------------+---------+--------------+-----------+----------+------------+-------------------+--------------+-------------+-------------+\n",
      "|  player_name|teammate_name|game_size|player_assists|player_dbno|player_dmg|player_kills|player_survive_time|team_placement|          src|          dst|\n",
      "+-------------+-------------+---------+--------------+-----------+----------+------------+-------------------+--------------+-------------+-------------+\n",
      "|      Kobe_24|        modea|       29|             0|          1|         6|           0|            368.224|            22|      Kobe_24|        modea|\n",
      "|      Kobe_24|    JorDan023|       29|             0|          1|         6|           0|            368.224|            22|      Kobe_24|    JorDan023|\n",
      "|        modea|      Kobe_24|       29|             0|          1|       257|           1| 472.67400000000004|            22|        modea|      Kobe_24|\n",
      "|        modea|    JorDan023|       29|             0|          1|       257|           1| 472.67400000000004|            22|        modea|    JorDan023|\n",
      "|    JorDan023|      Kobe_24|       29|             0|          0|         0|           0|            172.166|            22|    JorDan023|      Kobe_24|\n",
      "|    JorDan023|        modea|       29|             0|          0|         0|           0|            172.166|            22|    JorDan023|        modea|\n",
      "|  hjfthsrta5h|wangbinxiaoye|       45|             0|          0|         0|           0|            328.454|            30|  hjfthsrta5h|wangbinxiaoye|\n",
      "|wangbinxiaoye|  hjfthsrta5h|       45|             0|          0|         0|           0|  810.6260000000001|            30|wangbinxiaoye|  hjfthsrta5h|\n",
      "|  gui66606606|      RLOKIIN|       50|             1|          5|      1048|           8| 1950.2420000000002|             1|  gui66606606|      RLOKIIN|\n",
      "|      RLOKIIN|  gui66606606|       50|             3|          1|       176|           1| 1950.2420000000002|             1|      RLOKIIN|  gui66606606|\n",
      "+-------------+-------------+---------+--------------+-----------+----------+------------+-------------------+--------------+-------------+-------------+\n",
      "only showing top 10 rows\n",
      "\n",
      "CPU times: user 159 ms, sys: 56.3 ms, total: 215 ms\n",
      "Wall time: 15min 1s\n"
     ]
    }
   ],
   "source": [
    "%%time\n",
    "graph.edges.show(10)"
   ]
  },
  {
   "cell_type": "code",
   "execution_count": null,
   "metadata": {},
   "outputs": [
    {
     "data": {
      "text/plain": [
       "104041986"
      ]
     },
     "execution_count": 26,
     "metadata": {},
     "output_type": "execute_result"
    }
   ],
   "source": [
    "%%time\n",
    "graph.vertices.count()"
   ]
  },
  {
   "cell_type": "code",
   "execution_count": null,
   "metadata": {},
   "outputs": [
    {
     "name": "stdout",
     "output_type": "stream",
     "text": [
      "down\n"
     ]
    }
   ],
   "source": [
    "print('down')"
   ]
  },
  {
   "cell_type": "code",
   "execution_count": null,
   "metadata": {},
   "outputs": [
    {
     "data": {
      "text/plain": [
       "103641909"
      ]
     },
     "execution_count": 27,
     "metadata": {},
     "output_type": "execute_result"
    }
   ],
   "source": [
    "%%time\n",
    "graph.edges.count()"
   ]
  },
  {
   "cell_type": "code",
   "execution_count": 30,
   "metadata": {},
   "outputs": [
    {
     "name": "stdout",
     "output_type": "stream",
     "text": [
      "down\n"
     ]
    }
   ],
   "source": [
    "print('down')"
   ]
  },
  {
   "cell_type": "code",
   "execution_count": null,
   "metadata": {},
   "outputs": [],
   "source": []
  },
  {
   "cell_type": "code",
   "execution_count": null,
   "metadata": {},
   "outputs": [
    {
     "name": "stdout",
     "output_type": "stream",
     "text": [
      "+------------+------+\n",
      "|          id|degree|\n",
      "+------------+------+\n",
      "|feitengdedan|  5460|\n",
      "|   hzxiaobin|  5346|\n",
      "|   Slh_Bunny|  5314|\n",
      "|      JZalan|  5132|\n",
      "|   yangyl123|  4210|\n",
      "|    Sterealz|  4206|\n",
      "|   jimmy0572|  4124|\n",
      "|    yirui887|  4106|\n",
      "|BlueChick666|  3966|\n",
      "|Matthew_wang|  3940|\n",
      "+------------+------+\n",
      "only showing top 10 rows\n",
      "\n",
      "CPU times: user 198 ms, sys: 52.5 ms, total: 250 ms\n",
      "Wall time: 18min 4s\n"
     ]
    }
   ],
   "source": [
    "%%time\n",
    "\n",
    "graph.degrees.orderBy(\"degree\", ascending=False).show(10)"
   ]
  },
  {
   "cell_type": "code",
   "execution_count": null,
   "metadata": {},
   "outputs": [
    {
     "name": "stdout",
     "output_type": "stream",
     "text": [
      "+--------------+--------------+------------------------+\n",
      "|           src|           dst|max(player_survive_time)|\n",
      "+--------------+--------------+------------------------+\n",
      "|       cocoses|        icheee|            6.3648215E10|\n",
      "|        icheee|       cocoses|            6.3648215E10|\n",
      "|        icheee|          AVKU|            6.3648215E10|\n",
      "|       cocoses|          AVKU|            6.3648215E10|\n",
      "|          SPGC|Bluehairsorare|            6.3648215E10|\n",
      "|          AVKU|       cocoses|            6.3648215E10|\n",
      "|     caonima6b|        yzstar|            6.3648215E10|\n",
      "|  20Yuwuyanzhu|  GiorgioChang|            6.3648215E10|\n",
      "|          AVKU|        icheee|            6.3648215E10|\n",
      "|best-spectator|  beastinpants|            6.3648215E10|\n",
      "|   Unl3eatable|      ThuCandy|             6.364642E10|\n",
      "|   Unl3eatable|          ISTD|             6.364642E10|\n",
      "|assho_detected|      SACancel|             6.364642E10|\n",
      "|Douglas_Bolden|      SACancel|             6.364642E10|\n",
      "|   SONGYEJIUWO|       TTTTONE|             6.364642E10|\n",
      "|   Unl3eatable|          lsiL|             6.364642E10|\n",
      "|assho_detected|Douglas_Bolden|             6.364642E10|\n",
      "|assho_detected|   FailsTheFox|             6.364642E10|\n",
      "|Douglas_Bolden|   FailsTheFox|             6.364642E10|\n",
      "|     Malice404|        Bublin|             6.364642E10|\n",
      "+--------------+--------------+------------------------+\n",
      "only showing top 20 rows\n",
      "\n",
      "CPU times: user 192 ms, sys: 46.4 ms, total: 239 ms\n",
      "Wall time: 17min 55s\n"
     ]
    }
   ],
   "source": [
    "%%time\n",
    "\n",
    "graph.edges.groupBy(\"src\", \"dst\").max(\"player_survive_time\").orderBy(\"max(player_survive_time)\", ascending =False).show()"
   ]
  },
  {
   "cell_type": "code",
   "execution_count": null,
   "metadata": {},
   "outputs": [],
   "source": []
  },
  {
   "cell_type": "code",
   "execution_count": null,
   "metadata": {},
   "outputs": [
    {
     "name": "stdout",
     "output_type": "stream",
     "text": [
      "+--------------+--------------+-----+\n",
      "|           src|           dst|count|\n",
      "+--------------+--------------+-----+\n",
      "|     jimmy0572|     hzxiaobin|  767|\n",
      "|     hzxiaobin|     jimmy0572|  767|\n",
      "|       AKA8881|     ZDN-chiji|  714|\n",
      "|     ZDN-chiji|       AKA8881|  714|\n",
      "|     hzxiaobin| woerziyuchong|  712|\n",
      "| woerziyuchong|     hzxiaobin|  712|\n",
      "|    dawsonTsui|  BlueChick666|  664|\n",
      "|  BlueChick666|    dawsonTsui|  664|\n",
      "|   FkinAwesome|GoAheadTry2Run|  640|\n",
      "|GoAheadTry2Run|   FkinAwesome|  640|\n",
      "+--------------+--------------+-----+\n",
      "only showing top 10 rows\n",
      "\n",
      "CPU times: user 197 ms, sys: 54.9 ms, total: 252 ms\n",
      "Wall time: 17min 59s\n"
     ]
    }
   ],
   "source": [
    "%%time\n",
    "\n",
    "frequentPlayer = graph.edges.groupBy(\"src\", \"dst\").count().orderBy(\"count\", ascending = False)\n",
    "\n",
    "frequentPlayer.show(10)"
   ]
  },
  {
   "cell_type": "markdown",
   "metadata": {},
   "source": [
    "#### Page Rank - small sample"
   ]
  },
  {
   "cell_type": "code",
   "execution_count": 31,
   "metadata": {},
   "outputs": [
    {
     "name": "stdout",
     "output_type": "stream",
     "text": [
      "root\n",
      " |-- date: timestamp (nullable = true)\n",
      " |-- game_size: integer (nullable = true)\n",
      " |-- match_mode: string (nullable = true)\n",
      " |-- party_size: integer (nullable = true)\n",
      " |-- player_assists: integer (nullable = true)\n",
      " |-- player_dbno: integer (nullable = true)\n",
      " |-- player_dist_ride: double (nullable = true)\n",
      " |-- player_dist_walk: double (nullable = true)\n",
      " |-- player_dmg: integer (nullable = true)\n",
      " |-- player_kills: integer (nullable = true)\n",
      " |-- player_name: string (nullable = true)\n",
      " |-- player_survive_time: double (nullable = true)\n",
      " |-- team_id: integer (nullable = true)\n",
      " |-- team_placement: integer (nullable = true)\n",
      " |-- month: integer (nullable = true)\n",
      " |-- year: integer (nullable = true)\n",
      " |-- hour: integer (nullable = true)\n",
      " |-- dayOfWeek: string (nullable = true)\n",
      " |-- id: long (nullable = true)\n",
      " |-- teammate_name: string (nullable = true)\n",
      "\n"
     ]
    }
   ],
   "source": [
    "match2 = match\n",
    "match2 = match2.select('player_name', 'id', 'team_id')\n",
    "match2 = match2.selectExpr(\"player_name as teammate_name\", \"id as id2\", 'team_id as team_id2')\n",
    "\n",
    "#match2.printSchema()\n",
    "\n",
    "graph_data = match.join(match2.select('teammate_name', 'team_id2', 'id2'), \\\n",
    "                  (match.team_id == match2.team_id2)\\\n",
    "                  & (match.id == match2.id2), how = 'left').drop('id2', 'team_id2')\n",
    "\n",
    "graph_data.printSchema()\n",
    "\n",
    "graph_data= graph_data.dropna()\n",
    "\n",
    "graph_data = graph_data.filter(graph_data.player_name != graph_data.teammate_name)"
   ]
  },
  {
   "cell_type": "code",
   "execution_count": 33,
   "metadata": {},
   "outputs": [
    {
     "name": "stdout",
     "output_type": "stream",
     "text": [
      "root\n",
      " |-- date: timestamp (nullable = true)\n",
      " |-- game_size: integer (nullable = true)\n",
      " |-- match_mode: string (nullable = true)\n",
      " |-- party_size: integer (nullable = true)\n",
      " |-- player_assists: integer (nullable = true)\n",
      " |-- player_dbno: integer (nullable = true)\n",
      " |-- player_dist_ride: double (nullable = true)\n",
      " |-- player_dist_walk: double (nullable = true)\n",
      " |-- player_dmg: integer (nullable = true)\n",
      " |-- player_kills: integer (nullable = true)\n",
      " |-- player_name: string (nullable = true)\n",
      " |-- player_survive_time: double (nullable = true)\n",
      " |-- team_id: integer (nullable = true)\n",
      " |-- team_placement: integer (nullable = true)\n",
      " |-- month: integer (nullable = true)\n",
      " |-- year: integer (nullable = true)\n",
      " |-- hour: integer (nullable = true)\n",
      " |-- dayOfWeek: string (nullable = true)\n",
      " |-- id: long (nullable = true)\n",
      " |-- teammate_name: string (nullable = true)\n",
      "\n"
     ]
    }
   ],
   "source": [
    "graph_data2 = graph_data.sample(False, 0.0001, seed = 1)\n",
    "graph_data2.printSchema()"
   ]
  },
  {
   "cell_type": "code",
   "execution_count": 34,
   "metadata": {},
   "outputs": [],
   "source": [
    "#page_rank_sample = graph_data2.sample(False, 0.0001, seed = 1)\n",
    "pr_player_name = graph_data2.withColumn(\"id\",graph_data2[\"player_name\"])\n",
    "pr_teammates =  graph_data2.withColumn(\"src\", graph_data2[\"player_name\"])\n",
    "pr_teammates = pr_teammates.withColumn(\"dst\", graph_data2[\"teammate_name\"])\n",
    "\n",
    "pr_graph = GraphFrame(pr_player_name, pr_teammates)"
   ]
  },
  {
   "cell_type": "code",
   "execution_count": 28,
   "metadata": {},
   "outputs": [],
   "source": [
    "# %%time\n",
    "# pr_results = pr_graph.pageRank(resetProbability=0.15, tol= 0.01)\n",
    "# pr_results.vertices.orderBy('pagerank',ascending=False).show()"
   ]
  },
  {
   "cell_type": "markdown",
   "metadata": {},
   "source": [
    "#### Triangle counting - small sample"
   ]
  },
  {
   "cell_type": "code",
   "execution_count": null,
   "metadata": {},
   "outputs": [
    {
     "name": "stdout",
     "output_type": "stream",
     "text": [
      "+-----+-------------------+---------+----------+----------+--------------+-----------+------------------+------------------+----------+------------+----------------+-------------------+-------+--------------+-----+----+----+---------+----------------+-------------+\n",
      "|count|               date|game_size|match_mode|party_size|player_assists|player_dbno|  player_dist_ride|  player_dist_walk|player_dmg|player_kills|     player_name|player_survive_time|team_id|team_placement|month|year|hour|dayOfWeek|              id|teammate_name|\n",
      "+-----+-------------------+---------+----------+----------+--------------+-----------+------------------+------------------+----------+------------+----------------+-------------------+-------+--------------+-----+----+----+---------+----------------+-------------+\n",
      "|    0|2017-10-28 10:22:38|       28|       tpp|         4|             2|          1|          693.7033|        3939.50854|        83|           0|    327382933Bzc|           1689.721|      5|             1|   10|2017|  10|      Sat|    327382933Bzc|       sbfkgj|\n",
      "|    0|2018-01-02 09:37:40|       28|       tpp|         4|             0|          0|               0.0|        163.861145|        32|           0|       6raindead| 231.46900000000002|      6|            26|    1|2018|   9|      Tue|       6raindead|    lovezy914|\n",
      "|    0|2017-10-22 15:39:51|       26|       tpp|         4|             0|          3|               0.0|          991.0639|       462|           4|      A_fo666666|            729.302|     10|            11|   10|2017|  15|      Sun|      A_fo666666| pipima123132|\n",
      "|    0|2017-10-22 01:31:05|       25|       tpp|         4|             0|          0|               0.0|        320.888824|         9|           0|    AvengeGamerN|            677.915|      5|            18|   10|2017|   1|      Sun|    AvengeGamerN|     b2efairy|\n",
      "|    0|2017-11-11 06:32:40|       49|       tpp|         2|             0|          1|               0.0|        203.205826|       130|           1|      BushyBrows|            178.833|     16|            45|   11|2017|   6|      Sat|      BushyBrows|         FOX1|\n",
      "|    0|2017-10-21 03:07:58|       27|       tpp|         4|             2|          0|        2977.76978|        2776.86133|       195|           0|      CEILINGSPY|           1493.496|     13|             5|   10|2017|   3|      Sat|      CEILINGSPY|        MGCII|\n",
      "|    0|2017-12-30 02:23:19|       29|       tpp|         4|             0|          0|               0.0|        3019.47314|        58|           0|      CosmicJays|           1269.889|     25|            15|   12|2017|   2|      Sat|      CosmicJays|     Lilman10|\n",
      "|    0|2017-10-22 07:25:13|       28|       tpp|         4|             0|          0|               0.0|               0.0|         0|           0|        DOOMSDAE| 131.55700000000002|      1|             6|   10|2017|   7|      Sun|        DOOMSDAE|   3115390584|\n",
      "|    0|2017-12-04 02:52:04|       50|       tpp|         2|             0|          0|1242.5023199999998|          638.9343|         9|           0|GrabLyfByDaKitty|            533.683|     14|            31|   12|2017|   2|      Mon|GrabLyfByDaKitty| OGjohnnyboyy|\n",
      "|    0|2018-01-07 07:15:40|       28|       tpp|         4|             0|          0|               0.0|1864.7484100000001|         0|           0|      GrapeWrite|           1116.595|     15|             8|    1|2018|   7|      Sun|      GrapeWrite|     kaitian1|\n",
      "|    0|2017-11-04 20:25:20|       27|       tpp|         4|             0|          0|               0.0|               0.0|         0|           0|         Hanbanl|            196.987|      7|             8|   11|2017|  20|      Sat|         Hanbanl|      jiasd12|\n",
      "|    0|2017-12-27 01:24:12|       28|       tpp|         4|             0|          1|               0.0|        3814.53979|       100|           1|         Hildish| 1912.0420000000001|     16|             2|   12|2017|   1|      Wed|         Hildish|   ShaboyOnix|\n",
      "|    0|2018-01-02 04:21:56|       49|       tpp|         2|             0|          1|               0.0|           76.8504|       100|           1|       Homem_mau|             118.53|     22|            46|    1|2018|   4|      Tue|       Homem_mau|     Bodefast|\n",
      "|    0|2017-12-19 02:57:53|       49|       tpp|         2|             0|          1|        7455.16943|        1037.50964|       100|           0| HurricanePlayer|             996.03|      3|            21|   12|2017|   2|      Tue| HurricanePlayer|  Omnislash71|\n",
      "|    0|2017-11-20 06:07:00|       49|       tpp|         2|             0|          0|               0.0|        452.050873|         0|           0|     IIBoss12345| 248.60299999999998|     16|            32|   11|2017|   6|      Mon|     IIBoss12345|        EXCCC|\n",
      "|    0|2017-10-28 02:10:03|       28|       tpp|         4|             1|          1|4009.5007299999997|        1647.66443|       150|           1|       IPimpKids|           1527.146|     11|             5|   10|2017|   2|      Sat|       IPimpKids|  Booty_Chief|\n",
      "|    0|2017-12-31 12:42:25|       25|       tpp|         4|             1|          4| 6238.433000000001|2556.6635699999997|       528|           5|          KTbiru|           1852.465|     26|             1|   12|2017|  12|      Sun|          KTbiru|     Lythalia|\n",
      "|    0|2017-12-02 19:29:58|       45|       tpp|         2|             0|          0|               0.0|46.178470000000004|         0|           0|         LYDDSB1|            179.667|     37|            41|   12|2017|  19|      Sat|         LYDDSB1|     hahaaaad|\n",
      "|    0|2018-01-07 00:08:31|       27|       tpp|         4|             0|          0|               0.0|               0.0|         0|           0|           Lguan|            161.611|     17|            27|    1|2018|   0|      Sun|           Lguan|   chi_ji_gou|\n",
      "|    0|2017-12-27 16:41:26|       25|       tpp|         4|             1|          0|               0.0|        232.756363|         0|           0|      Libao19922| 226.40400000000002|     15|            23|   12|2017|  16|      Wed|      Libao19922|    weige1211|\n",
      "+-----+-------------------+---------+----------+----------+--------------+-----------+------------------+------------------+----------+------------+----------------+-------------------+-------+--------------+-----+----+----+---------+----------------+-------------+\n",
      "only showing top 20 rows\n",
      "\n",
      "CPU times: user 180 ms, sys: 63.6 ms, total: 243 ms\n",
      "Wall time: 21min 30s\n"
     ]
    }
   ],
   "source": [
    "%%time\n",
    "pr_graph.triangleCount().orderBy(\"count\", ascending=False).show()"
   ]
  },
  {
   "cell_type": "code",
   "execution_count": null,
   "metadata": {},
   "outputs": [
    {
     "name": "stdout",
     "output_type": "stream",
     "text": [
      "down\n"
     ]
    }
   ],
   "source": [
    "print('down')"
   ]
  },
  {
   "cell_type": "markdown",
   "metadata": {},
   "source": [
    "#### Motif sub graph finding - small sample"
   ]
  },
  {
   "cell_type": "code",
   "execution_count": null,
   "metadata": {},
   "outputs": [
    {
     "name": "stdout",
     "output_type": "stream",
     "text": [
      "+-------------------------+--------------------------+-----------------------+\n",
      "|a                        |b                         |c                      |\n",
      "+-------------------------+--------------------------+-----------------------+\n",
      "|[Bizzy-Bin, LeLocle0512] |[LeLocle0512, LeLocle0202]|[LeLocle0202, Cannvaro]|\n",
      "|[SMer_, babyt2]          |[babyt2, 333yinuo]        |[333yinuo, babyt2]     |\n",
      "|[saoqi-NQR, DouYu_GuLang]|[DouYu_GuLang, CNJianChen]|[CNJianChen, fdgerggs] |\n",
      "+-------------------------+--------------------------+-----------------------+\n",
      "\n"
     ]
    }
   ],
   "source": [
    "play_num_count = pr_graph.edges.groupBy(\"src\", \"dst\").count().orderBy(\"count\", ascending = False)\n",
    "\n",
    "#What are the flight routes with no direct connection?\n",
    "subGraph = GraphFrame(pr_graph.vertices.select(\"id\", \"teammate_name\"), play_num_count)\n",
    "res = subGraph.find(\"(a)-[]->(b); (b)-[]->(c); !(a)-[]->(c)\").filter(\"c.id !=a.id\")\n",
    "res.show(10, truncate=False)"
   ]
  },
  {
   "cell_type": "code",
   "execution_count": 42,
   "metadata": {},
   "outputs": [
    {
     "name": "stdout",
     "output_type": "stream",
     "text": [
      "down\n"
     ]
    }
   ],
   "source": [
    "print('down')"
   ]
  },
  {
   "cell_type": "code",
   "execution_count": null,
   "metadata": {},
   "outputs": [],
   "source": []
  }
 ],
 "metadata": {
  "kernelspec": {
   "display_name": "Python 3 (ipykernel)",
   "language": "python",
   "name": "python3"
  },
  "language_info": {
   "codemirror_mode": {
    "name": "ipython",
    "version": 3
   },
   "file_extension": ".py",
   "mimetype": "text/x-python",
   "name": "python",
   "nbconvert_exporter": "python",
   "pygments_lexer": "ipython3",
   "version": "3.8.8"
  }
 },
 "nbformat": 4,
 "nbformat_minor": 2
}
